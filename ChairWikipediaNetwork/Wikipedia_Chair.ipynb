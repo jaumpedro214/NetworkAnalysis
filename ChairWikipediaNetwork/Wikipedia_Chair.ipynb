{
  "nbformat": 4,
  "nbformat_minor": 0,
  "metadata": {
    "colab": {
      "name": "Wikipedia_Chair.ipynb",
      "provenance": [],
      "collapsed_sections": [],
      "toc_visible": true
    },
    "kernelspec": {
      "name": "python3",
      "display_name": "Python 3"
    },
    "language_info": {
      "name": "python"
    }
  },
  "cells": [
    {
      "cell_type": "markdown",
      "metadata": {
        "id": "Tirw9HnrTuau"
      },
      "source": [
        "# Constructing a network of Wikipedia Pages"
      ]
    },
    {
      "cell_type": "markdown",
      "metadata": {
        "id": "ryNuGuF5aK6t"
      },
      "source": [
        "## Introduction"
      ]
    },
    {
      "cell_type": "markdown",
      "metadata": {
        "id": "Qic9i75ttbuq"
      },
      "source": [
        "In this notebook, we're gonna show a step-by-step process on how to build a network (graph) from automatically collecting Wikipedia data.\n",
        "\n",
        "> This notebook is a version of the notebook made available on the **Week 7** on this [GitHub Repository](https://github.com/ivanovitchm/network_analysis).\n",
        "\n",
        "\n",
        "In our example, we're gonna use central **Wikipedia page** as a 'seed' and collect all the citations that this page has (they will be considered as its directed neighbours in the network). Then, for each of these pages, we do the same process. \n",
        "\n",
        "To do this, we're gonna be using the concept of BFS (breadth-first search), which is an algorithm to walk in graphs. It is based on the 'layers' of a graph's entry, the first layer it's the entry's neighbours, the second, the neighbours of the neighbors, and so on.\n",
        "\n",
        "The algorithm is called *breadth-first* because it consumes the nodes layer by layer.\n",
        "\n",
        "<img width=\"200\" src=\"https://drive.google.com/uc?export=view&id=1t9ZXB5Q-wRt_qWbf8eU_1RiTwVGaStHU\">\n",
        "\n",
        "Doing this process on wikipedia pages allow us to build a Directed Connected Graph, where each node is a page and, its neighbours, are the pages citations.\n",
        "\n",
        "\n",
        "\n",
        "\n",
        "\n",
        "\n"
      ]
    },
    {
      "cell_type": "markdown",
      "metadata": {
        "id": "JnNVv00Aalcx"
      },
      "source": [
        "## Scraping Wikipedia and building the network"
      ]
    },
    {
      "cell_type": "markdown",
      "metadata": {
        "id": "14n-p5hMtwvT"
      },
      "source": [
        "**Choosing the Seed**\n",
        "\n",
        "The first step of our research is to decide the central Wikipedia Page.\n",
        "This page will contain the main subject of our network.\n",
        "\n",
        "We choose to take an everyday topic that follows humankind for millennia, that can highlight characteristics of all cultures and societies.\n",
        "\n",
        "For these purposes, we decided to start in the Chair's main article.\n",
        "\n",
        "So, with the seed in hand, we can go ahead and build the Scraper.\n",
        "\n",
        "\n"
      ]
    },
    {
      "cell_type": "code",
      "metadata": {
        "id": "zyD6-e-34h5P",
        "colab": {
          "base_uri": "https://localhost:8080/"
        },
        "outputId": "a4cda289-7494-4eef-e89a-7929ba77e9f2"
      },
      "source": [
        "!pip install networkx==2.6.2\n",
        "!pip install wikipedia"
      ],
      "execution_count": 1,
      "outputs": [
        {
          "output_type": "stream",
          "text": [
            "Requirement already satisfied: networkx==2.6.2 in /usr/local/lib/python3.7/dist-packages (2.6.2)\n",
            "Collecting wikipedia\n",
            "  Downloading wikipedia-1.4.0.tar.gz (27 kB)\n",
            "Requirement already satisfied: beautifulsoup4 in /usr/local/lib/python3.7/dist-packages (from wikipedia) (4.6.3)\n",
            "Requirement already satisfied: requests<3.0.0,>=2.0.0 in /usr/local/lib/python3.7/dist-packages (from wikipedia) (2.23.0)\n",
            "Requirement already satisfied: certifi>=2017.4.17 in /usr/local/lib/python3.7/dist-packages (from requests<3.0.0,>=2.0.0->wikipedia) (2021.5.30)\n",
            "Requirement already satisfied: idna<3,>=2.5 in /usr/local/lib/python3.7/dist-packages (from requests<3.0.0,>=2.0.0->wikipedia) (2.10)\n",
            "Requirement already satisfied: urllib3!=1.25.0,!=1.25.1,<1.26,>=1.21.1 in /usr/local/lib/python3.7/dist-packages (from requests<3.0.0,>=2.0.0->wikipedia) (1.24.3)\n",
            "Requirement already satisfied: chardet<4,>=3.0.2 in /usr/local/lib/python3.7/dist-packages (from requests<3.0.0,>=2.0.0->wikipedia) (3.0.4)\n",
            "Building wheels for collected packages: wikipedia\n",
            "  Building wheel for wikipedia (setup.py) ... \u001b[?25l\u001b[?25hdone\n",
            "  Created wheel for wikipedia: filename=wikipedia-1.4.0-py3-none-any.whl size=11696 sha256=d2c541b45d5326a523d3531aa20a2f56a0d9129ef0eb3a51995331e15831924e\n",
            "  Stored in directory: /root/.cache/pip/wheels/15/93/6d/5b2c68b8a64c7a7a04947b4ed6d89fb557dcc6bc27d1d7f3ba\n",
            "Successfully built wikipedia\n",
            "Installing collected packages: wikipedia\n",
            "Successfully installed wikipedia-1.4.0\n"
          ],
          "name": "stdout"
        }
      ]
    },
    {
      "cell_type": "code",
      "metadata": {
        "id": "MINWDN4gTzAC"
      },
      "source": [
        "from operator import itemgetter\n",
        "import networkx as nx\n",
        "import wikipedia\n",
        "\n",
        "import seaborn as sns\n",
        "import pandas as pd\n",
        "\n",
        "import matplotlib.pyplot as plt"
      ],
      "execution_count": 2,
      "outputs": []
    },
    {
      "cell_type": "markdown",
      "metadata": {
        "id": "BDSTMAcB2XTn"
      },
      "source": [
        "Defining initial conditions."
      ]
    },
    {
      "cell_type": "code",
      "metadata": {
        "id": "sy1gJQxwYdNi"
      },
      "source": [
        "## Chair\n",
        "SEED = 'Chair'\n",
        "\n",
        "todo_lst = [(0, SEED)] # List of the next links to be processed. The SEED is in the layer 0\n",
        "todo_set = set(SEED) # Set of the next links to be processed. Useful to speed up searches.\n",
        "done_set = set() # Set of already visited nodes."
      ],
      "execution_count": 3,
      "outputs": []
    },
    {
      "cell_type": "code",
      "metadata": {
        "id": "z04Y-it9g5OR"
      },
      "source": [
        "g = nx.DiGraph()\n",
        "layer, page = todo_lst[0]"
      ],
      "execution_count": 4,
      "outputs": []
    },
    {
      "cell_type": "code",
      "metadata": {
        "colab": {
          "base_uri": "https://localhost:8080/"
        },
        "id": "WtBKOuYvIZzu",
        "outputId": "e35c558d-86ef-49da-bb03-99b71016b5a1"
      },
      "source": [
        "wikipedia.page('Chair', auto_suggest=False)"
      ],
      "execution_count": 5,
      "outputs": [
        {
          "output_type": "execute_result",
          "data": {
            "text/plain": [
              "<WikipediaPage 'Chair'>"
            ]
          },
          "metadata": {},
          "execution_count": 5
        }
      ]
    },
    {
      "cell_type": "markdown",
      "metadata": {
        "id": "Mv1MajbI2bCO"
      },
      "source": [
        "<center>\n",
        "  <div color='r'> WARNING </div>\n",
        "</center>\n",
        "\n",
        "This is the cell where we do the scrapping loop. Depending on your PC and internet setup, this cell can take a while tu run completely.\n"
      ]
    },
    {
      "cell_type": "code",
      "metadata": {
        "id": "ucGHcQ4-hP4V",
        "colab": {
          "base_uri": "https://localhost:8080/"
        },
        "outputId": "78ea5e3c-4b16-4f30-c0e5-fac2caae10ae"
      },
      "source": [
        "%%time\n",
        "while layer < 2:\n",
        "  # Remove the name page of the current page from the todo_lst, \n",
        "  # and add it to the set of processed pages. \n",
        "  # If the script encounters this page again, it will skip over it.\n",
        "  del todo_lst[0]\n",
        "  done_set.add(page)\n",
        "  \n",
        "  # Show progress\n",
        "  print(layer, page) \n",
        "  \n",
        "  # Attempt to download the selected page.\n",
        "  try:\n",
        "    wiki = wikipedia.page(page, auto_suggest=False)\n",
        "  except:\n",
        "    layer, page = todo_lst[0]\n",
        "    print(\"Could not load\", page)\n",
        "    continue\n",
        "  \n",
        "  for link in wiki.links:\n",
        "    link = link.title()\n",
        "    if not link.startswith(\"List Of\"):\n",
        "      if link not in todo_set and link not in done_set:\n",
        "        todo_lst.append((layer + 1, link))\n",
        "        todo_set.add(link)\n",
        "      g.add_edge(page, link)\n",
        "  layer, page = todo_lst[0]"
      ],
      "execution_count": 6,
      "outputs": [
        {
          "output_type": "stream",
          "text": [
            "0 Chair\n",
            "1 2012 Republican Political Convention\n",
            "1 Aeron Chair\n",
            "1 American National Standards Institute\n",
            "1 Anthropometry\n",
            "1 Antimacassar\n",
            "1 Armrest\n",
            "1 Ash Tree\n",
            "1 Ashanti Empire\n",
            "1 Bar Stool\n",
            "Could not load Barack Obama\n",
            "1 Barack Obama\n",
            "1 Bean Bag\n",
            "Could not load Bean Bag Chair\n",
            "1 Bean Bag Chair\n",
            "Could not load Bench (Furniture)\n",
            "1 Bench (Furniture)\n",
            "Could not load Board Of Directors\n",
            "1 Board Of Directors\n",
            "Could not load Broken Chair\n",
            "1 Broken Chair\n",
            "1 Butterfly Chair\n",
            "Could not load Buttock Popliteal\n",
            "1 Buttock Popliteal\n",
            "Could not load Buttocks\n",
            "1 Buttocks\n",
            "1 Canada\n",
            "1 Caning (Furniture)\n",
            "Could not load Caster\n",
            "1 Caster\n",
            "1 Cattail\n",
            "1 Chair (Disambiguation)\n",
            "Could not load Chair Of The Board\n",
            "1 Chair Of The Board\n",
            "Could not load Chair Pose\n",
            "1 Chair Pose\n",
            "Could not load Chair Squat\n",
            "1 Chair Squat\n",
            "Could not load Charles Eames\n",
            "1 Charles Eames\n",
            "1 Chest (Furniture)\n",
            "Could not load China\n",
            "1 China\n",
            "1 Clint Eastwood\n",
            "1 Cluster Bomb\n",
            "1 Concertmaster\n",
            "1 Coronation Chair\n",
            "1 Corrugated Cardboard\n",
            "1 Cushion\n",
            "1 Den (Room)\n",
            "Could not load Dental Chair\n",
            "1 Dental Chair\n",
            "Could not load Desk\n",
            "1 Desk\n",
            "1 Dining Room\n",
            "1 Drilling\n",
            "1 Durability\n",
            "1 Eames Lounge Chair\n",
            "1 Early Dynastic Period Of Egypt\n",
            "Could not load Ecclesiastical\n",
            "1 Ecclesiastical\n",
            "1 Egg (Chair)\n",
            "Could not load Egypt\n",
            "1 Egypt\n",
            "1 Elbow-Joint\n",
            "Could not load Electric Chair\n",
            "1 Electric Chair\n",
            "1 Encyclopædia Britannica Eleventh Edition\n",
            "1 Endowed Chair\n",
            "Could not load Ergonomic\n",
            "1 Ergonomic\n",
            "1 Feudalism\n",
            "1 French Language\n",
            "1 Furniture\n",
            "1 Galen Cranz\n",
            "1 Gas Spring\n",
            "Could not load Geneva\n",
            "1 Geneva\n",
            "1 Gilded\n",
            "1 Hickory\n",
            "1 History Of The Chair\n",
            "Could not load Home Cinema\n",
            "1 Home Cinema\n",
            "Could not load House Of Commons\n",
            "1 House Of Commons\n",
            "1 Hubei\n",
            "1 Human Body\n",
            "1 Isbn (Identifier)\n",
            "Could not load Iso 9241\n",
            "1 Iso 9241\n",
            "Could not load Industrial Design\n",
            "1 Industrial Design\n",
            "1 Ischial Tuberosities\n",
            "Could not load Japan\n",
            "1 Japan\n",
            "1 Juncaceae\n",
            "1 Kinetic Sculpture\n",
            "1 Kneeling Chair\n",
            "Could not load Korea\n",
            "1 Korea\n",
            "1 Laminate\n",
            "1 Land Mine\n",
            "1 Leather\n",
            "1 License Server\n",
            "Could not load Lift Chair\n",
            "1 Lift Chair\n",
            "Could not load Living Room\n",
            "1 Living Room\n",
            "1 Lower Back\n",
            "Could not load Lumbar\n",
            "1 Lumbar\n",
            "1 Mahogany\n",
            "1 Manorialism\n",
            "1 Marble\n",
            "1 Mary Blade\n",
            "1 Massage Chair\n",
            "1 Metaphor\n",
            "1 Metropolitan Museum Of Art\n",
            "1 Mexico\n",
            "1 Missing In Action\n",
            "1 Monobloc (Chair)\n",
            "Could not load Monumental Sculpture\n",
            "1 Monumental Sculpture\n",
            "Could not load Musical Chairs\n",
            "1 Musical Chairs\n",
            "1 Oak\n",
            "1 Odessa\n",
            "1 Office Chair\n",
            "Could not load Orchestra\n",
            "1 Orchestra\n",
            "1 Ottoman (Furniture)\n",
            "Could not load Pvc Pipe\n",
            "1 Pvc Pipe\n",
            "Could not load Palace Of Nations, Geneva\n",
            "1 Palace Of Nations, Geneva\n",
            "Could not load Papasan Chair\n",
            "1 Papasan Chair\n",
            "Could not load Paris\n",
            "1 Paris\n",
            "1 Party Game\n",
            "1 Phragmites\n",
            "1 Plastic\n",
            "1 Plywood\n",
            "1 Polymers\n",
            "1 Polypropylene\n",
            "1 Popliteal Fossa\n",
            "Could not load Popliteal Height\n",
            "1 Popliteal Height\n",
            "Could not load Porous\n",
            "1 Porous\n",
            "1 Rawhide (Textile)\n",
            "Could not load Recliner\n",
            "1 Recliner\n",
            "1 Renaissance\n",
            "1 Riding-Like Sitting\n",
            "Could not load Rocking Chair\n",
            "1 Rocking Chair\n"
          ],
          "name": "stdout"
        },
        {
          "output_type": "stream",
          "text": [
            "/usr/local/lib/python3.7/dist-packages/wikipedia/wikipedia.py:389: UserWarning: No parser was explicitly specified, so I'm using the best available HTML parser for this system (\"lxml\"). This usually isn't a problem, but if you run this code on another system, or in a different virtual environment, it may use a different parser and behave differently.\n",
            "\n",
            "The code that caused this warning is on line 389 of the file /usr/local/lib/python3.7/dist-packages/wikipedia/wikipedia.py. To get rid of this warning, pass the additional argument 'features=\"lxml\"' to the BeautifulSoup constructor.\n",
            "\n",
            "  lis = BeautifulSoup(html).find_all('li')\n"
          ],
          "name": "stderr"
        },
        {
          "output_type": "stream",
          "text": [
            "Could not load Seat\n",
            "1 Seat\n",
            "1 Seating Assignment\n",
            "Could not load Shoulders\n",
            "1 Shoulders\n",
            "1 Sitting\n",
            "1 Splat (Furniture)\n",
            "Could not load Stele\n",
            "1 Stele\n",
            "1 Steve Mann (Inventor)\n",
            "Could not load Swivel Chair\n",
            "1 Swivel Chair\n",
            "1 The Conversation (Website)\n",
            "Could not load Thomas Edward Bowdich\n",
            "1 Thomas Edward Bowdich\n",
            "1 Throne\n",
            "1 Tokujin Yoshioka\n",
            "1 Toronto\n",
            "1 Tuileries Garden\n",
            "1 Twelve Chairs\n",
            "1 Ukraine\n",
            "1 United Kingdom\n",
            "1 Upholstery\n",
            "1 Ventilation (Architecture)\n",
            "Could not load Wheelchair\n",
            "1 Wheelchair\n",
            "1 Whiplash (Medicine)\n",
            "Could not load White\n",
            "1 White\n",
            "1 Wood\n",
            "1 Writing Desk\n",
            "Could not load 1856 Republican National Convention\n",
            "CPU times: user 6 s, sys: 496 ms, total: 6.49 s\n",
            "Wall time: 3min\n"
          ],
          "name": "stdout"
        }
      ]
    },
    {
      "cell_type": "markdown",
      "metadata": {
        "id": "O9vwHuqD4EF5"
      },
      "source": [
        "Lets see the info abour our network."
      ]
    },
    {
      "cell_type": "code",
      "metadata": {
        "id": "JrtewM_hPqJa",
        "colab": {
          "base_uri": "https://localhost:8080/"
        },
        "outputId": "1ad85a86-2362-40b6-b9b5-4d14cce83deb"
      },
      "source": [
        "print(\"{} nodes, {} edges\".format(len(g), nx.number_of_edges(g)))"
      ],
      "execution_count": 7,
      "outputs": [
        {
          "output_type": "stream",
          "text": [
            "32065 nodes, 42148 edges\n"
          ],
          "name": "stdout"
        }
      ]
    },
    {
      "cell_type": "markdown",
      "metadata": {
        "id": "LMX9A1-Nh-8B"
      },
      "source": [
        "The network of interest is now in the variable **g**. \n",
        "\n",
        "Before continue, we need to do a few cleaning steps on our network."
      ]
    },
    {
      "cell_type": "markdown",
      "metadata": {
        "id": "_JKmSGfqjB-Y"
      },
      "source": [
        "## Preprocessing Steps"
      ]
    },
    {
      "cell_type": "markdown",
      "metadata": {
        "id": "TulPj3ZQQAS8"
      },
      "source": [
        "### Truncate the network"
      ]
    },
    {
      "cell_type": "markdown",
      "metadata": {
        "id": "nLOeLLq-5k1I"
      },
      "source": [
        "This is the most important cleaning step. \n",
        "\n",
        "As the purpose of the network is to adequately represent the relation of a main page or a main subject with its surroundings pages, we need to assure that each node in our graph is representative.\n",
        "\n",
        "By creating the network with the BFS method (discussed in Introduction), we get **a lot** of non-representative nodes, i.e. , nodes with only one neighbour.\n",
        "\n",
        "Lets remove this nodes.\n"
      ]
    },
    {
      "cell_type": "code",
      "metadata": {
        "colab": {
          "base_uri": "https://localhost:8080/",
          "height": 603
        },
        "id": "W94TLeRnMuW2",
        "outputId": "b8f845ed-34ad-487a-b0b5-d16ab8e9e7a3"
      },
      "source": [
        "\n",
        "# degree sequence\n",
        "degree_sequence = sorted([d for n, d in g.degree()], reverse=True)  \n",
        "degree_df = pd.DataFrame(degree_sequence, columns=['degree']).reset_index()\n",
        "\n",
        "# Determining bins to count nodes\n",
        "bins = [0, 1, 2, 4, 6, 8, 10, 20, 50, 100]\n",
        "\n",
        "# Creating dataframe with bins count\n",
        "degree_bins_count = pd.DataFrame( degree_df.groupby( pd.cut(degree_df['degree'], bins) )['index'].count() ).rename( columns={'index':'count'} )\n",
        "# Transforming into %\n",
        "degree_bins_count['count'] = degree_bins_count['count']/degree_bins_count['count'].sum()\n",
        "\n",
        "fig, ax = plt.subplots( figsize=(2,6) )\n",
        "ax.set_title(\"Percentage of nodes \\nin each degree interval\")\n",
        "sns.heatmap(degree_bins_count, annot=True, fmt='.5f', cbar=False, cmap='Reds', linecolor='black', ax=ax)\n",
        "\n",
        "ax.set_ylabel(\"degree bins\")\n",
        "ax.set_xlabel(\"% of nodes\")"
      ],
      "execution_count": 51,
      "outputs": [
        {
          "output_type": "execute_result",
          "data": {
            "text/plain": [
              "Text(0.5, 36.72222222222221, '% of nodes')"
            ]
          },
          "metadata": {},
          "execution_count": 51
        },
        {
          "output_type": "display_data",
          "data": {
            "image/png": "[encoded data removed]",
            "text/plain": [
              "<Figure size 200x600 with 1 Axes>"
            ]
          },
          "metadata": {}
        }
      ]
    },
    {
      "cell_type": "code",
      "metadata": {
        "id": "AaHxaOwMLW9B",
        "colab": {
          "base_uri": "https://localhost:8080/",
          "height": 407
        },
        "outputId": "8f0f3e87-6b9f-4a22-ef93-291aa01df54e"
      },
      "source": [
        "plt.style.use(\"default\")\n",
        "\n",
        "fig, ax = plt.subplots(1,2,figsize=(8,4))\n",
        "\n",
        "# all_data has information about degree_sequence and the width of each bin\n",
        "ax[0].hist(degree_sequence)\n",
        "ax[1].hist(degree_sequence,bins=[1,2,3,4,5,6,7,8,9,10])\n",
        "\n",
        "ax[0].set_title(\"Degree Histogram\")\n",
        "ax[0].set_ylabel(\"Count\")\n",
        "ax[0].set_xlabel(\"Degree\")\n",
        "ax[0].set_ylim(0,15000)\n",
        "\n",
        "ax[1].set_title(\"Degree Histogram - Zoom\")\n",
        "ax[1].set_ylabel(\"Count\")\n",
        "ax[1].set_xlabel(\"Degree\")\n",
        "ax[1].set_xlim(0,10)\n",
        "ax[1].set_ylim(0,15000)\n",
        "\n",
        "plt.tight_layout()\n",
        "plt.show()"
      ],
      "execution_count": 8,
      "outputs": [
        {
          "output_type": "display_data",
          "data": {
            "image/png": "[encoded data removed]",
            "text/plain": [
              "<Figure size 800x400 with 2 Axes>"
            ]
          },
          "metadata": {}
        }
      ]
    },
    {
      "cell_type": "markdown",
      "metadata": {
        "id": "EGtg8QLu7NC5"
      },
      "source": [
        "As we can see, over 14 K nodes are purely '*leaves*' (nodes with only one conection) on our graph.\n",
        "\n"
      ]
    },
    {
      "cell_type": "code",
      "metadata": {
        "id": "Br8-5IGIUbVT",
        "colab": {
          "base_uri": "https://localhost:8080/"
        },
        "outputId": "b737bf6a-3a39-4c3f-f97e-79b68858b9cc"
      },
      "source": [
        "# filter nodes with degree greater than or equal to 2\n",
        "core = [node for node, deg in dict(g.degree()).items() if deg >= 2]\n",
        "\n",
        "# select a subgraph with 'core' nodes\n",
        "gsub = nx.subgraph(g, core)\n",
        "\n",
        "print(\"{} nodes, {} edges\".format(len(gsub), nx.number_of_edges(gsub)))\n",
        "\n",
        "# Save the network\n",
        "nx.write_graphml(gsub, \"chair_network.graphml\")"
      ],
      "execution_count": 9,
      "outputs": [
        {
          "output_type": "stream",
          "text": [
            "5430 nodes, 15513 edges\n"
          ],
          "name": "stdout"
        }
      ]
    },
    {
      "cell_type": "code",
      "metadata": {
        "id": "GD2AghG1eXMB",
        "colab": {
          "base_uri": "https://localhost:8080/"
        },
        "outputId": "b52e43eb-e376-437e-868b-5ec7bd39ea47"
      },
      "source": [
        "print(\"Nodes removed: {:.2f}%\".format(100*(1 - len(gsub.nodes)/len(g.nodes))))\n",
        "print(\"Edges removed: {:.2f}%\".format(100*(1 - len(gsub.edges)/len(g.edges))))\n",
        "print(\"Final Edges per nodes ration: {:.2f}\".format(len(gsub.edges)/len(gsub.nodes)))"
      ],
      "execution_count": 10,
      "outputs": [
        {
          "output_type": "stream",
          "text": [
            "Nodes removed: 83.07%\n",
            "Edges removed: 63.19%\n",
            "Final Edges per nodes ration: 2.86\n"
          ],
          "name": "stdout"
        }
      ]
    },
    {
      "cell_type": "code",
      "metadata": {
        "colab": {
          "base_uri": "https://localhost:8080/",
          "height": 143
        },
        "id": "8ipzKBdnSbD1",
        "outputId": "cd6b1a17-f78c-4d17-9e3f-0e82c45a59a1"
      },
      "source": [
        "graphs_mdata_df = pd.DataFrame( columns=['Original', 'Cleaned'], index=['Nodes', 'Edges', 'Edges per Nodes'] )\n",
        "graphs_mdata_df['Original'] = [ len(g.nodes), len(g.edges), len(g.edges)/len(g.nodes) ]\n",
        "graphs_mdata_df['Cleaned'] = [ len(gsub.nodes), len(gsub.edges), len(gsub.edges)/len(gsub.nodes) ]\n",
        "graphs_mdata_df.round(2)"
      ],
      "execution_count": 59,
      "outputs": [
        {
          "output_type": "execute_result",
          "data": {
            "text/html": [
              "<div>\n",
              "<style scoped>\n",
              "    .dataframe tbody tr th:only-of-type {\n",
              "        vertical-align: middle;\n",
              "    }\n",
              "\n",
              "    .dataframe tbody tr th {\n",
              "        vertical-align: top;\n",
              "    }\n",
              "\n",
              "    .dataframe thead th {\n",
              "        text-align: right;\n",
              "    }\n",
              "</style>\n",
              "<table border=\"1\" class=\"dataframe\">\n",
              "  <thead>\n",
              "    <tr style=\"text-align: right;\">\n",
              "      <th></th>\n",
              "      <th>Original</th>\n",
              "      <th>Cleaned</th>\n",
              "    </tr>\n",
              "  </thead>\n",
              "  <tbody>\n",
              "    <tr>\n",
              "      <th>Nodes</th>\n",
              "      <td>32065.00</td>\n",
              "      <td>5430.00</td>\n",
              "    </tr>\n",
              "    <tr>\n",
              "      <th>Edges</th>\n",
              "      <td>42148.00</td>\n",
              "      <td>15513.00</td>\n",
              "    </tr>\n",
              "    <tr>\n",
              "      <th>Edges per Nodes</th>\n",
              "      <td>1.31</td>\n",
              "      <td>2.86</td>\n",
              "    </tr>\n",
              "  </tbody>\n",
              "</table>\n",
              "</div>"
            ],
            "text/plain": [
              "                 Original   Cleaned\n",
              "Nodes            32065.00   5430.00\n",
              "Edges            42148.00  15513.00\n",
              "Edges per Nodes      1.31      2.86"
            ]
          },
          "metadata": {},
          "execution_count": 59
        }
      ]
    }
  ]
}