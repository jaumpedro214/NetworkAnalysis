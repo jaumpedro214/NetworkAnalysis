{
  "nbformat": 4,
  "nbformat_minor": 0,
  "metadata": {
    "colab": {
      "name": "Construção de base de dados da malha aérea Brasileira.ipynb",
      "provenance": [],
      "collapsed_sections": [],
      "toc_visible": true
    },
    "kernelspec": {
      "name": "python3",
      "display_name": "Python 3"
    },
    "language_info": {
      "name": "python"
    }
  },
  "cells": [
    {
      "cell_type": "markdown",
      "metadata": {
        "id": "IDPK23PfbLFu"
      },
      "source": [
        "## Introdução"
      ]
    },
    {
      "cell_type": "markdown",
      "metadata": {
        "id": "TQqaDzBzbMZd"
      },
      "source": [
        "Neste notebook, iremos detalhar a construção de um Grafo (Rede) que represente a malha aérea brasileira.\n",
        "\n",
        "Ele será construído com auxílio de dados públicos disponibilizados pela ANAC sobre os voos que aconteceram em aeroportos brasileiros.\n",
        "\n",
        "Partiremos dos dados estruturados (tabelas .csv) e, com auxílio das bibliotecas Pandas e NetworkX, os transformaremos em um grafo.\n",
        "\n",
        "Esta base será utilizada em outro *Jupyter Notebook* onde focaremos em estudar os aspectos matemáticos e estatísticos da rede criada.\n",
        "\n",
        "Este exercício tem intuito puramente acadêmico."
      ]
    },
    {
      "cell_type": "markdown",
      "metadata": {
        "id": "wK3DF1l8pjZZ"
      },
      "source": [
        "## Importando dados dos aeroportos"
      ]
    },
    {
      "cell_type": "markdown",
      "metadata": {
        "id": "l031YpgLpp5X"
      },
      "source": [
        "Dados com todos os aeroportos do mundo (tabela com as coordenadas dos aeroportos)\n",
        "\n",
        "https://drive.google.com/file/d/1ZOjvbNo083YfJpOpdCy3CiHMEzppIRQB/view?usp=sharing\n",
        "\n"
      ]
    },
    {
      "cell_type": "markdown",
      "metadata": {
        "id": "VgWBjBqtpqyo"
      },
      "source": [
        "Dados com todos os vôos com origem ou destino no Brasil (dados públicos da ANAC)\n",
        "\n",
        "https://drive.google.com/file/d/13TdnsCxmsFxvDlWV2FJ_81GwKo4IVS0z/view?usp=sharing\n",
        "\n",
        "https://www.anac.gov.br/assuntos/setor-regulado/empresas/envio-de-informacoes/base-de-dados-estatisticos-do-transporte-aereo\n",
        "\n",
        "https://www.anac.gov.br/assuntos/dados-e-estatisticas/descricao-de-variaveis"
      ]
    },
    {
      "cell_type": "code",
      "metadata": {
        "colab": {
          "base_uri": "https://localhost:8080/"
        },
        "id": "wb65bYZyrvk4",
        "outputId": "b0ec5768-be8e-492c-9a7d-6347208abfd5"
      },
      "source": [
        "!gdown https://drive.google.com/uc?id=1ZOjvbNo083YfJpOpdCy3CiHMEzppIRQB\n",
        "!unzip airport-codes_zip.zip"
      ],
      "execution_count": 1,
      "outputs": [
        {
          "output_type": "stream",
          "text": [
            "Downloading...\n",
            "From: https://drive.google.com/uc?id=1ZOjvbNo083YfJpOpdCy3CiHMEzppIRQB\n",
            "To: /content/airport-codes_zip.zip\n",
            "6.96MB [00:00, 19.1MB/s]\n",
            "Archive:  airport-codes_zip.zip\n",
            "  inflating: archive/airport-codes.csv  \n",
            "  inflating: data/validation_report.json  \n",
            "  inflating: data/airport-codes_csv.csv  \n",
            "  inflating: data/airport-codes_json.json  \n",
            "  inflating: README.md               \n",
            "  inflating: datapackage.json        \n"
          ],
          "name": "stdout"
        }
      ]
    },
    {
      "cell_type": "code",
      "metadata": {
        "colab": {
          "base_uri": "https://localhost:8080/"
        },
        "id": "yjTngb2SpeD6",
        "outputId": "d6c31492-3d85-4ce9-996d-739fcac74067"
      },
      "source": [
        "!gdown https://drive.google.com/uc?id=13TdnsCxmsFxvDlWV2FJ_81GwKo4IVS0z\n",
        "!unzip Dados_Estatisticos.zip"
      ],
      "execution_count": 2,
      "outputs": [
        {
          "output_type": "stream",
          "text": [
            "Downloading...\n",
            "From: https://drive.google.com/uc?id=13TdnsCxmsFxvDlWV2FJ_81GwKo4IVS0z\n",
            "To: /content/Dados Estatisticos.csv\n",
            "108MB [00:00, 139MB/s]\n",
            "unzip:  cannot find or open Dados_Estatisticos.zip, Dados_Estatisticos.zip.zip or Dados_Estatisticos.zip.ZIP.\n"
          ],
          "name": "stdout"
        }
      ]
    },
    {
      "cell_type": "markdown",
      "metadata": {
        "id": "v9Xre93Rs4On"
      },
      "source": [
        "## Pré processando a base de dados"
      ]
    },
    {
      "cell_type": "markdown",
      "metadata": {
        "id": "BpB256d3vjD2"
      },
      "source": [
        "Nesta etapa, faremos todo o pré processamento necessário para a construção do nosso Grafo."
      ]
    },
    {
      "cell_type": "markdown",
      "metadata": {
        "id": "h79r3SRudxSe"
      },
      "source": [
        "**Importando o conjunto de dados**"
      ]
    },
    {
      "cell_type": "code",
      "metadata": {
        "id": "E-gMZtjAtiN_"
      },
      "source": [
        "import pandas as pd\n",
        "import numpy as np\n",
        "\n",
        "dados_anac = pd.read_csv('Dados_estatisticos.csv', sep=';', encoding='latin-1')"
      ],
      "execution_count": 254,
      "outputs": []
    },
    {
      "cell_type": "code",
      "metadata": {
        "colab": {
          "base_uri": "https://localhost:8080/",
          "height": 526
        },
        "id": "BwlW1fuEvyXH",
        "outputId": "459eb9ad-d475-40ac-ce21-57ed08f2bc51"
      },
      "source": [
        "dados_anac.head()"
      ],
      "execution_count": 255,
      "outputs": [
        {
          "output_type": "execute_result",
          "data": {
            "text/html": [
              "<div>\n",
              "<style scoped>\n",
              "    .dataframe tbody tr th:only-of-type {\n",
              "        vertical-align: middle;\n",
              "    }\n",
              "\n",
              "    .dataframe tbody tr th {\n",
              "        vertical-align: top;\n",
              "    }\n",
              "\n",
              "    .dataframe thead th {\n",
              "        text-align: right;\n",
              "    }\n",
              "</style>\n",
              "<table border=\"1\" class=\"dataframe\">\n",
              "  <thead>\n",
              "    <tr style=\"text-align: right;\">\n",
              "      <th></th>\n",
              "      <th>EMPRESA (SIGLA)</th>\n",
              "      <th>EMPRESA (NOME)</th>\n",
              "      <th>EMPRESA (NACIONALIDADE)</th>\n",
              "      <th>ANO</th>\n",
              "      <th>MÊS</th>\n",
              "      <th>AEROPORTO DE ORIGEM (SIGLA)</th>\n",
              "      <th>AEROPORTO DE ORIGEM (NOME)</th>\n",
              "      <th>AEROPORTO DE ORIGEM (UF)</th>\n",
              "      <th>AEROPORTO DE ORIGEM (REGIÃO)</th>\n",
              "      <th>AEROPORTO DE ORIGEM (PAÍS)</th>\n",
              "      <th>AEROPORTO DE ORIGEM (CONTINENTE)</th>\n",
              "      <th>AEROPORTO DE DESTINO (SIGLA)</th>\n",
              "      <th>AEROPORTO DE DESTINO (NOME)</th>\n",
              "      <th>AEROPORTO DE DESTINO (UF)</th>\n",
              "      <th>AEROPORTO DE DESTINO (REGIÃO)</th>\n",
              "      <th>AEROPORTO DE DESTINO (PAÍS)</th>\n",
              "      <th>AEROPORTO DE DESTINO (CONTINENTE)</th>\n",
              "      <th>NATUREZA</th>\n",
              "      <th>GRUPO DE VOO</th>\n",
              "      <th>PASSAGEIROS PAGOS</th>\n",
              "      <th>PASSAGEIROS GRÁTIS</th>\n",
              "      <th>CARGA PAGA (KG)</th>\n",
              "      <th>CARGA GRÁTIS (KG)</th>\n",
              "      <th>CORREIO (KG)</th>\n",
              "      <th>ASK</th>\n",
              "      <th>RPK</th>\n",
              "      <th>ATK</th>\n",
              "      <th>RTK</th>\n",
              "      <th>COMBUSTÍVEL (LITROS)</th>\n",
              "      <th>DISTÂNCIA VOADA (KM)</th>\n",
              "      <th>DECOLAGENS</th>\n",
              "      <th>CARGA PAGA KM</th>\n",
              "      <th>CARGA GRATIS KM</th>\n",
              "      <th>CORREIO KM</th>\n",
              "      <th>ASSENTOS</th>\n",
              "      <th>PAYLOAD</th>\n",
              "      <th>HORAS VOADAS</th>\n",
              "      <th>BAGAGEM (KG)</th>\n",
              "    </tr>\n",
              "  </thead>\n",
              "  <tbody>\n",
              "    <tr>\n",
              "      <th>0</th>\n",
              "      <td>AAL</td>\n",
              "      <td>AMERICAN AIRLINES, INC.</td>\n",
              "      <td>ESTRANGEIRA</td>\n",
              "      <td>2011</td>\n",
              "      <td>1</td>\n",
              "      <td>KAUS</td>\n",
              "      <td>AUSTIN, TEXAS</td>\n",
              "      <td>NaN</td>\n",
              "      <td>NaN</td>\n",
              "      <td>ESTADOS UNIDOS DA AMÉRICA</td>\n",
              "      <td>AMÉRICA DO NORTE</td>\n",
              "      <td>KDFW</td>\n",
              "      <td>DALLAS &amp; FORT WORTH, TEXAS</td>\n",
              "      <td>NaN</td>\n",
              "      <td>NaN</td>\n",
              "      <td>ESTADOS UNIDOS DA AMÉRICA</td>\n",
              "      <td>AMÉRICA DO NORTE</td>\n",
              "      <td>INTERNACIONAL</td>\n",
              "      <td>REGULAR</td>\n",
              "      <td>0.0</td>\n",
              "      <td>0.0</td>\n",
              "      <td>0.0</td>\n",
              "      <td>0.0</td>\n",
              "      <td>0.0</td>\n",
              "      <td>75276.0</td>\n",
              "      <td>50184.0</td>\n",
              "      <td>13770.0</td>\n",
              "      <td>7463.0</td>\n",
              "      <td>NaN</td>\n",
              "      <td>306.0</td>\n",
              "      <td>1.0</td>\n",
              "      <td>2.946780e+06</td>\n",
              "      <td>0.0</td>\n",
              "      <td>0.0</td>\n",
              "      <td>246.0</td>\n",
              "      <td>45000.0</td>\n",
              "      <td>2,5</td>\n",
              "      <td>NaN</td>\n",
              "    </tr>\n",
              "    <tr>\n",
              "      <th>1</th>\n",
              "      <td>AAL</td>\n",
              "      <td>AMERICAN AIRLINES, INC.</td>\n",
              "      <td>ESTRANGEIRA</td>\n",
              "      <td>2011</td>\n",
              "      <td>1</td>\n",
              "      <td>KDFW</td>\n",
              "      <td>DALLAS &amp; FORT WORTH, TEXAS</td>\n",
              "      <td>NaN</td>\n",
              "      <td>NaN</td>\n",
              "      <td>ESTADOS UNIDOS DA AMÉRICA</td>\n",
              "      <td>AMÉRICA DO NORTE</td>\n",
              "      <td>SBGL</td>\n",
              "      <td>RIO DE JANEIRO</td>\n",
              "      <td>RJ</td>\n",
              "      <td>SUDESTE</td>\n",
              "      <td>BRASIL</td>\n",
              "      <td>AMÉRICA DO SUL</td>\n",
              "      <td>INTERNACIONAL</td>\n",
              "      <td>REGULAR</td>\n",
              "      <td>2391.0</td>\n",
              "      <td>51.0</td>\n",
              "      <td>28903.0</td>\n",
              "      <td>0.0</td>\n",
              "      <td>6362.0</td>\n",
              "      <td>23968900.0</td>\n",
              "      <td>20129800.0</td>\n",
              "      <td>3830640.0</td>\n",
              "      <td>2108580.0</td>\n",
              "      <td>NaN</td>\n",
              "      <td>109447.0</td>\n",
              "      <td>13.0</td>\n",
              "      <td>2.433340e+08</td>\n",
              "      <td>0.0</td>\n",
              "      <td>53561700.0</td>\n",
              "      <td>2847.0</td>\n",
              "      <td>455000.0</td>\n",
              "      <td>136,88</td>\n",
              "      <td>NaN</td>\n",
              "    </tr>\n",
              "    <tr>\n",
              "      <th>2</th>\n",
              "      <td>AAL</td>\n",
              "      <td>AMERICAN AIRLINES, INC.</td>\n",
              "      <td>ESTRANGEIRA</td>\n",
              "      <td>2011</td>\n",
              "      <td>1</td>\n",
              "      <td>KDFW</td>\n",
              "      <td>DALLAS &amp; FORT WORTH, TEXAS</td>\n",
              "      <td>NaN</td>\n",
              "      <td>NaN</td>\n",
              "      <td>ESTADOS UNIDOS DA AMÉRICA</td>\n",
              "      <td>AMÉRICA DO NORTE</td>\n",
              "      <td>SBGR</td>\n",
              "      <td>GUARULHOS</td>\n",
              "      <td>SP</td>\n",
              "      <td>SUDESTE</td>\n",
              "      <td>BRASIL</td>\n",
              "      <td>AMÉRICA DO SUL</td>\n",
              "      <td>INTERNACIONAL</td>\n",
              "      <td>REGULAR</td>\n",
              "      <td>6879.0</td>\n",
              "      <td>95.0</td>\n",
              "      <td>298598.0</td>\n",
              "      <td>0.0</td>\n",
              "      <td>9302.0</td>\n",
              "      <td>60840700.0</td>\n",
              "      <td>56710500.0</td>\n",
              "      <td>11129400.0</td>\n",
              "      <td>7642250.0</td>\n",
              "      <td>NaN</td>\n",
              "      <td>247320.0</td>\n",
              "      <td>30.0</td>\n",
              "      <td>2.461640e+09</td>\n",
              "      <td>0.0</td>\n",
              "      <td>76685700.0</td>\n",
              "      <td>7380.0</td>\n",
              "      <td>1350000.0</td>\n",
              "      <td>299,5</td>\n",
              "      <td>NaN</td>\n",
              "    </tr>\n",
              "    <tr>\n",
              "      <th>3</th>\n",
              "      <td>AAL</td>\n",
              "      <td>AMERICAN AIRLINES, INC.</td>\n",
              "      <td>ESTRANGEIRA</td>\n",
              "      <td>2011</td>\n",
              "      <td>1</td>\n",
              "      <td>KJFK</td>\n",
              "      <td>NEW YORK, NEW YORK</td>\n",
              "      <td>NaN</td>\n",
              "      <td>NaN</td>\n",
              "      <td>ESTADOS UNIDOS DA AMÉRICA</td>\n",
              "      <td>AMÉRICA DO NORTE</td>\n",
              "      <td>SBGL</td>\n",
              "      <td>RIO DE JANEIRO</td>\n",
              "      <td>RJ</td>\n",
              "      <td>SUDESTE</td>\n",
              "      <td>BRASIL</td>\n",
              "      <td>AMÉRICA DO SUL</td>\n",
              "      <td>INTERNACIONAL</td>\n",
              "      <td>REGULAR</td>\n",
              "      <td>5130.0</td>\n",
              "      <td>57.0</td>\n",
              "      <td>47901.0</td>\n",
              "      <td>0.0</td>\n",
              "      <td>41232.0</td>\n",
              "      <td>47394200.0</td>\n",
              "      <td>38274000.0</td>\n",
              "      <td>7806290.0</td>\n",
              "      <td>4130990.0</td>\n",
              "      <td>NaN</td>\n",
              "      <td>216412.0</td>\n",
              "      <td>28.0</td>\n",
              "      <td>3.701190e+08</td>\n",
              "      <td>0.0</td>\n",
              "      <td>316224000.0</td>\n",
              "      <td>6132.0</td>\n",
              "      <td>1010000.0</td>\n",
              "      <td>285,26</td>\n",
              "      <td>NaN</td>\n",
              "    </tr>\n",
              "    <tr>\n",
              "      <th>4</th>\n",
              "      <td>AAL</td>\n",
              "      <td>AMERICAN AIRLINES, INC.</td>\n",
              "      <td>ESTRANGEIRA</td>\n",
              "      <td>2011</td>\n",
              "      <td>1</td>\n",
              "      <td>KJFK</td>\n",
              "      <td>NEW YORK, NEW YORK</td>\n",
              "      <td>NaN</td>\n",
              "      <td>NaN</td>\n",
              "      <td>ESTADOS UNIDOS DA AMÉRICA</td>\n",
              "      <td>AMÉRICA DO NORTE</td>\n",
              "      <td>SBGR</td>\n",
              "      <td>GUARULHOS</td>\n",
              "      <td>SP</td>\n",
              "      <td>SUDESTE</td>\n",
              "      <td>BRASIL</td>\n",
              "      <td>AMÉRICA DO SUL</td>\n",
              "      <td>INTERNACIONAL</td>\n",
              "      <td>NÃO REGULAR</td>\n",
              "      <td>219.0</td>\n",
              "      <td>1.0</td>\n",
              "      <td>6475.0</td>\n",
              "      <td>0.0</td>\n",
              "      <td>0.0</td>\n",
              "      <td>1885340.0</td>\n",
              "      <td>1678420.0</td>\n",
              "      <td>344880.0</td>\n",
              "      <td>200681.0</td>\n",
              "      <td>NaN</td>\n",
              "      <td>7664.0</td>\n",
              "      <td>1.0</td>\n",
              "      <td>4.962440e+07</td>\n",
              "      <td>0.0</td>\n",
              "      <td>0.0</td>\n",
              "      <td>246.0</td>\n",
              "      <td>45000.0</td>\n",
              "      <td>10,22</td>\n",
              "      <td>NaN</td>\n",
              "    </tr>\n",
              "  </tbody>\n",
              "</table>\n",
              "</div>"
            ],
            "text/plain": [
              "  EMPRESA (SIGLA)           EMPRESA (NOME)  ... HORAS VOADAS  BAGAGEM (KG)\n",
              "0             AAL  AMERICAN AIRLINES, INC.  ...          2,5           NaN\n",
              "1             AAL  AMERICAN AIRLINES, INC.  ...       136,88           NaN\n",
              "2             AAL  AMERICAN AIRLINES, INC.  ...        299,5           NaN\n",
              "3             AAL  AMERICAN AIRLINES, INC.  ...       285,26           NaN\n",
              "4             AAL  AMERICAN AIRLINES, INC.  ...        10,22           NaN\n",
              "\n",
              "[5 rows x 38 columns]"
            ]
          },
          "metadata": {
            "tags": []
          },
          "execution_count": 255
        }
      ]
    },
    {
      "cell_type": "code",
      "metadata": {
        "colab": {
          "base_uri": "https://localhost:8080/"
        },
        "id": "rJ4yNvopv0HH",
        "outputId": "bb3ace5f-458e-40cf-f41c-64749594a8ac"
      },
      "source": [
        "print( f\" Tamanho do dataset {len(dados_anac)}\" )"
      ],
      "execution_count": 256,
      "outputs": [
        {
          "output_type": "stream",
          "text": [
            " Tamanho do dataset 431250\n"
          ],
          "name": "stdout"
        }
      ]
    },
    {
      "cell_type": "markdown",
      "metadata": {
        "id": "5mldTGzovKOf"
      },
      "source": [
        "**Visualizando as colunas e seus tipos**"
      ]
    },
    {
      "cell_type": "code",
      "metadata": {
        "colab": {
          "base_uri": "https://localhost:8080/"
        },
        "id": "qpLIilyitvj3",
        "outputId": "e50ed020-72bf-4686-ad30-0788d98ad952"
      },
      "source": [
        "dados_anac.dtypes"
      ],
      "execution_count": 257,
      "outputs": [
        {
          "output_type": "execute_result",
          "data": {
            "text/plain": [
              "EMPRESA (SIGLA)                       object\n",
              "EMPRESA (NOME)                        object\n",
              "EMPRESA (NACIONALIDADE)               object\n",
              "ANO                                    int64\n",
              "MÊS                                    int64\n",
              "AEROPORTO DE ORIGEM (SIGLA)           object\n",
              "AEROPORTO DE ORIGEM (NOME)            object\n",
              "AEROPORTO DE ORIGEM (UF)              object\n",
              "AEROPORTO DE ORIGEM (REGIÃO)          object\n",
              "AEROPORTO DE ORIGEM (PAÍS)            object\n",
              "AEROPORTO DE ORIGEM (CONTINENTE)      object\n",
              "AEROPORTO DE DESTINO (SIGLA)          object\n",
              "AEROPORTO DE DESTINO (NOME)           object\n",
              "AEROPORTO DE DESTINO (UF)             object\n",
              "AEROPORTO DE DESTINO (REGIÃO)         object\n",
              "AEROPORTO DE DESTINO (PAÍS)           object\n",
              "AEROPORTO DE DESTINO (CONTINENTE)     object\n",
              "NATUREZA                              object\n",
              "GRUPO DE VOO                          object\n",
              "PASSAGEIROS PAGOS                    float64\n",
              "PASSAGEIROS GRÁTIS                   float64\n",
              "CARGA PAGA (KG)                      float64\n",
              "CARGA GRÁTIS (KG)                    float64\n",
              "CORREIO (KG)                         float64\n",
              "ASK                                  float64\n",
              "RPK                                  float64\n",
              "ATK                                  float64\n",
              "RTK                                  float64\n",
              "COMBUSTÍVEL (LITROS)                 float64\n",
              "DISTÂNCIA VOADA (KM)                 float64\n",
              "DECOLAGENS                           float64\n",
              "CARGA PAGA KM                        float64\n",
              "CARGA GRATIS KM                      float64\n",
              "CORREIO KM                           float64\n",
              "ASSENTOS                             float64\n",
              "PAYLOAD                              float64\n",
              "HORAS VOADAS                          object\n",
              "BAGAGEM (KG)                         float64\n",
              "dtype: object"
            ]
          },
          "metadata": {
            "tags": []
          },
          "execution_count": 257
        }
      ]
    },
    {
      "cell_type": "markdown",
      "metadata": {
        "id": "V5x9NSP4vbxu"
      },
      "source": [
        "*As colunas do tipo 'object' referem-se a 'strings'*"
      ]
    },
    {
      "cell_type": "markdown",
      "metadata": {
        "id": "yh0D3aNNwBWu"
      },
      "source": [
        "**Selecionando os voos puramente brasileiros**"
      ]
    },
    {
      "cell_type": "code",
      "metadata": {
        "id": "0R68WP-HvCQv"
      },
      "source": [
        "dados_anac_br = dados_anac.query( \"`AEROPORTO DE ORIGEM (PAÍS)` == 'BRASIL' and `AEROPORTO DE DESTINO (PAÍS)` == 'BRASIL'\" )"
      ],
      "execution_count": 258,
      "outputs": []
    },
    {
      "cell_type": "markdown",
      "metadata": {
        "id": "mcc5PBfrd4hk"
      },
      "source": [
        "*Validando a seleção*"
      ]
    },
    {
      "cell_type": "code",
      "metadata": {
        "colab": {
          "base_uri": "https://localhost:8080/",
          "height": 172
        },
        "id": "9X62Y0LMwQPO",
        "outputId": "1ce684fc-fe8d-412f-f1d8-0986f7890f0d"
      },
      "source": [
        "dados_anac_br[ [\"AEROPORTO DE ORIGEM (PAÍS)\", \"AEROPORTO DE DESTINO (PAÍS)\"] ].describe()"
      ],
      "execution_count": 259,
      "outputs": [
        {
          "output_type": "execute_result",
          "data": {
            "text/html": [
              "<div>\n",
              "<style scoped>\n",
              "    .dataframe tbody tr th:only-of-type {\n",
              "        vertical-align: middle;\n",
              "    }\n",
              "\n",
              "    .dataframe tbody tr th {\n",
              "        vertical-align: top;\n",
              "    }\n",
              "\n",
              "    .dataframe thead th {\n",
              "        text-align: right;\n",
              "    }\n",
              "</style>\n",
              "<table border=\"1\" class=\"dataframe\">\n",
              "  <thead>\n",
              "    <tr style=\"text-align: right;\">\n",
              "      <th></th>\n",
              "      <th>AEROPORTO DE ORIGEM (PAÍS)</th>\n",
              "      <th>AEROPORTO DE DESTINO (PAÍS)</th>\n",
              "    </tr>\n",
              "  </thead>\n",
              "  <tbody>\n",
              "    <tr>\n",
              "      <th>count</th>\n",
              "      <td>311838</td>\n",
              "      <td>311838</td>\n",
              "    </tr>\n",
              "    <tr>\n",
              "      <th>unique</th>\n",
              "      <td>1</td>\n",
              "      <td>1</td>\n",
              "    </tr>\n",
              "    <tr>\n",
              "      <th>top</th>\n",
              "      <td>BRASIL</td>\n",
              "      <td>BRASIL</td>\n",
              "    </tr>\n",
              "    <tr>\n",
              "      <th>freq</th>\n",
              "      <td>311838</td>\n",
              "      <td>311838</td>\n",
              "    </tr>\n",
              "  </tbody>\n",
              "</table>\n",
              "</div>"
            ],
            "text/plain": [
              "       AEROPORTO DE ORIGEM (PAÍS) AEROPORTO DE DESTINO (PAÍS)\n",
              "count                      311838                      311838\n",
              "unique                          1                           1\n",
              "top                        BRASIL                      BRASIL\n",
              "freq                       311838                      311838"
            ]
          },
          "metadata": {
            "tags": []
          },
          "execution_count": 259
        }
      ]
    },
    {
      "cell_type": "markdown",
      "metadata": {
        "id": "o4IbJQnd1ece"
      },
      "source": [
        "## Agregando por par ORIGEM-DESTINO"
      ]
    },
    {
      "cell_type": "markdown",
      "metadata": {
        "id": "EPQmkfyk1sR2"
      },
      "source": [
        "Nesta etapa, construimos os pares únicos de aeroportos conectados por algum voo.\n",
        "\n",
        "Os aeroportos serão os **nós** da nossa **rede**.\n",
        "Dois aeroportos são conectados se existe ao menos um voo que os ligue.\n",
        "\n",
        "Os pares finais vão conter:\n",
        "  - Sigla, UF, Região e coordenadas de cada aeroporto\n",
        "  - Total de voos entre eles\n",
        "  - Total de voos feito por empresas brasileiras\n",
        "  - Total de voos de natureza 'DOMÉSTICA'\n",
        "  - Total de voos dos tipos *Improdutivo*, *Regulares* e *Não Regulares*  \n",
        "  - Distância entre origem e destino"
      ]
    },
    {
      "cell_type": "code",
      "metadata": {
        "id": "ehoMrwxn1rk1"
      },
      "source": [
        "COLUMNS = ['AEROPORTO DE ORIGEM (SIGLA)',\n",
        "           'AEROPORTO DE ORIGEM (UF)',\n",
        "           'AEROPORTO DE ORIGEM (REGIÃO)',\n",
        "           'AEROPORTO DE DESTINO (SIGLA)',\n",
        "           'AEROPORTO DE DESTINO (UF)',\n",
        "           'AEROPORTO DE DESTINO (REGIÃO)',\n",
        "           'GRUPO DE VOO',\n",
        "           'EMPRESA (NACIONALIDADE)',\n",
        "           'DISTÂNCIA VOADA (KM)',\n",
        "           'NATUREZA'\n",
        "           ]\n",
        "\n",
        "dados_anac_br = dados_anac_br[ COLUMNS ]"
      ],
      "execution_count": 260,
      "outputs": []
    },
    {
      "cell_type": "markdown",
      "metadata": {
        "id": "lJMa5PxPA5UB"
      },
      "source": [
        "Criando variáveis auxiliares"
      ]
    },
    {
      "cell_type": "code",
      "metadata": {
        "id": "6C3twS23A7NR"
      },
      "source": [
        "dados_anac_br['VOO REGULAR'] = dados_anac_br['GRUPO DE VOO'] == 'REGULAR'\n",
        "dados_anac_br['VOO NÃO REGULAR'] = dados_anac_br['GRUPO DE VOO'] == 'NÃO REGULAR'\n",
        "dados_anac_br['IMPRODUTIVO'] = dados_anac_br['GRUPO DE VOO'] == 'IMPRODUTIVO'\n",
        "dados_anac_br['EMPRESA NACIONAL'] = dados_anac_br['EMPRESA (NACIONALIDADE)'] == 'BRASILEIRA'\n",
        "dados_anac_br['NATUREZA DOMÉSTICA'] =  dados_anac_br['NATUREZA'] == 'DOMÉSTICA'\n",
        "\n",
        "dados_anac_br = dados_anac_br.drop( ['GRUPO DE VOO', 'EMPRESA (NACIONALIDADE)', 'NATUREZA'], axis=1 )"
      ],
      "execution_count": 261,
      "outputs": []
    },
    {
      "cell_type": "code",
      "metadata": {
        "id": "bDASEB_IBaJa"
      },
      "source": [
        "dados_gb = dados_anac_br.groupby( by=['AEROPORTO DE ORIGEM (SIGLA)', 'AEROPORTO DE DESTINO (SIGLA)'] )"
      ],
      "execution_count": 262,
      "outputs": []
    },
    {
      "cell_type": "code",
      "metadata": {
        "id": "C51fght9DZGq"
      },
      "source": [
        "dados_final = dados_gb[ ['AEROPORTO DE ORIGEM (UF)',\n",
        "                         'AEROPORTO DE ORIGEM (REGIÃO)',\n",
        "                         'AEROPORTO DE DESTINO (UF)',\n",
        "                         'AEROPORTO DE DESTINO (REGIÃO)'] ].max()\n",
        "dados_final[ 'DISTÂNCIA VOADA (KM)' ] = dados_gb[ 'DISTÂNCIA VOADA (KM)' ].max()\n",
        "dados_final[ 'VOO REGULAR' ] = dados_gb[ 'VOO REGULAR' ].sum()\n",
        "dados_final[ 'VOO NÃO REGULAR' ] = dados_gb[ 'VOO NÃO REGULAR' ].sum()\n",
        "dados_final[ 'IMPRODUTIVO' ] = dados_gb[ 'IMPRODUTIVO' ].sum()\n",
        "dados_final[ 'EMPRESA NACIONAL' ] = dados_gb[ 'EMPRESA NACIONAL' ].sum()\n",
        "dados_final[ 'NATUREZA DOMÉSTICA' ] = dados_gb[ 'NATUREZA DOMÉSTICA' ].sum()\n",
        "dados_final[ 'VOOS' ] = dados_final[ 'IMPRODUTIVO' ] + dados_final[ 'VOO REGULAR' ] + dados_final[ 'VOO NÃO REGULAR' ]"
      ],
      "execution_count": 263,
      "outputs": []
    },
    {
      "cell_type": "code",
      "metadata": {
        "id": "xE5Fu7UFDlrB"
      },
      "source": [
        "dados_final = dados_final.reset_index()"
      ],
      "execution_count": 264,
      "outputs": []
    },
    {
      "cell_type": "code",
      "metadata": {
        "colab": {
          "base_uri": "https://localhost:8080/",
          "height": 254
        },
        "id": "Xgfxc3qFL_BX",
        "outputId": "9ad81cfb-1779-4b92-f68a-da9d85d425be"
      },
      "source": [
        "dados_final.head()"
      ],
      "execution_count": 265,
      "outputs": [
        {
          "output_type": "execute_result",
          "data": {
            "text/html": [
              "<div>\n",
              "<style scoped>\n",
              "    .dataframe tbody tr th:only-of-type {\n",
              "        vertical-align: middle;\n",
              "    }\n",
              "\n",
              "    .dataframe tbody tr th {\n",
              "        vertical-align: top;\n",
              "    }\n",
              "\n",
              "    .dataframe thead th {\n",
              "        text-align: right;\n",
              "    }\n",
              "</style>\n",
              "<table border=\"1\" class=\"dataframe\">\n",
              "  <thead>\n",
              "    <tr style=\"text-align: right;\">\n",
              "      <th></th>\n",
              "      <th>AEROPORTO DE ORIGEM (SIGLA)</th>\n",
              "      <th>AEROPORTO DE DESTINO (SIGLA)</th>\n",
              "      <th>AEROPORTO DE ORIGEM (UF)</th>\n",
              "      <th>AEROPORTO DE ORIGEM (REGIÃO)</th>\n",
              "      <th>AEROPORTO DE DESTINO (UF)</th>\n",
              "      <th>AEROPORTO DE DESTINO (REGIÃO)</th>\n",
              "      <th>DISTÂNCIA VOADA (KM)</th>\n",
              "      <th>VOO REGULAR</th>\n",
              "      <th>VOO NÃO REGULAR</th>\n",
              "      <th>IMPRODUTIVO</th>\n",
              "      <th>EMPRESA NACIONAL</th>\n",
              "      <th>NATUREZA DOMÉSTICA</th>\n",
              "      <th>VOOS</th>\n",
              "    </tr>\n",
              "  </thead>\n",
              "  <tbody>\n",
              "    <tr>\n",
              "      <th>0</th>\n",
              "      <td>SBAA</td>\n",
              "      <td>SBAA</td>\n",
              "      <td>PA</td>\n",
              "      <td>NORTE</td>\n",
              "      <td>PA</td>\n",
              "      <td>NORTE</td>\n",
              "      <td>0.0</td>\n",
              "      <td>0</td>\n",
              "      <td>0</td>\n",
              "      <td>1</td>\n",
              "      <td>1</td>\n",
              "      <td>1</td>\n",
              "      <td>1</td>\n",
              "    </tr>\n",
              "    <tr>\n",
              "      <th>1</th>\n",
              "      <td>SBAA</td>\n",
              "      <td>SBBE</td>\n",
              "      <td>PA</td>\n",
              "      <td>NORTE</td>\n",
              "      <td>PA</td>\n",
              "      <td>NORTE</td>\n",
              "      <td>NaN</td>\n",
              "      <td>20</td>\n",
              "      <td>0</td>\n",
              "      <td>0</td>\n",
              "      <td>20</td>\n",
              "      <td>20</td>\n",
              "      <td>20</td>\n",
              "    </tr>\n",
              "    <tr>\n",
              "      <th>2</th>\n",
              "      <td>SBAA</td>\n",
              "      <td>SBCI</td>\n",
              "      <td>PA</td>\n",
              "      <td>NORTE</td>\n",
              "      <td>MA</td>\n",
              "      <td>NORDESTE</td>\n",
              "      <td>233.0</td>\n",
              "      <td>7</td>\n",
              "      <td>2</td>\n",
              "      <td>0</td>\n",
              "      <td>9</td>\n",
              "      <td>9</td>\n",
              "      <td>9</td>\n",
              "    </tr>\n",
              "    <tr>\n",
              "      <th>3</th>\n",
              "      <td>SBAA</td>\n",
              "      <td>SBGO</td>\n",
              "      <td>PA</td>\n",
              "      <td>NORTE</td>\n",
              "      <td>GO</td>\n",
              "      <td>CENTRO-OESTE</td>\n",
              "      <td>921.0</td>\n",
              "      <td>0</td>\n",
              "      <td>0</td>\n",
              "      <td>1</td>\n",
              "      <td>1</td>\n",
              "      <td>1</td>\n",
              "      <td>1</td>\n",
              "    </tr>\n",
              "    <tr>\n",
              "      <th>4</th>\n",
              "      <td>SBAA</td>\n",
              "      <td>SBMA</td>\n",
              "      <td>PA</td>\n",
              "      <td>NORTE</td>\n",
              "      <td>PA</td>\n",
              "      <td>NORTE</td>\n",
              "      <td>332.0</td>\n",
              "      <td>20</td>\n",
              "      <td>0</td>\n",
              "      <td>1</td>\n",
              "      <td>21</td>\n",
              "      <td>21</td>\n",
              "      <td>21</td>\n",
              "    </tr>\n",
              "  </tbody>\n",
              "</table>\n",
              "</div>"
            ],
            "text/plain": [
              "  AEROPORTO DE ORIGEM (SIGLA)  ... VOOS\n",
              "0                        SBAA  ...    1\n",
              "1                        SBAA  ...   20\n",
              "2                        SBAA  ...    9\n",
              "3                        SBAA  ...    1\n",
              "4                        SBAA  ...   21\n",
              "\n",
              "[5 rows x 13 columns]"
            ]
          },
          "metadata": {
            "tags": []
          },
          "execution_count": 265
        }
      ]
    },
    {
      "cell_type": "markdown",
      "metadata": {
        "id": "OvRtmXnQJNLg"
      },
      "source": [
        "**Adicionando informações de coordenadas**"
      ]
    },
    {
      "cell_type": "code",
      "metadata": {
        "id": "HvqY9krXJho6"
      },
      "source": [
        "dados_coord = pd.read_csv('archive/airport-codes.csv')"
      ],
      "execution_count": 266,
      "outputs": []
    },
    {
      "cell_type": "code",
      "metadata": {
        "colab": {
          "base_uri": "https://localhost:8080/"
        },
        "id": "B2Y0ucKWLwfI",
        "outputId": "3494b528-92be-4703-a5b2-9e7a5e3af9c2"
      },
      "source": [
        "dados_coord.columns"
      ],
      "execution_count": 267,
      "outputs": [
        {
          "output_type": "execute_result",
          "data": {
            "text/plain": [
              "Index(['ident', 'type', 'name', 'elevation_ft', 'continent', 'iso_country',\n",
              "       'iso_region', 'municipality', 'gps_code', 'iata_code', 'local_code',\n",
              "       'coordinates'],\n",
              "      dtype='object')"
            ]
          },
          "metadata": {
            "tags": []
          },
          "execution_count": 267
        }
      ]
    },
    {
      "cell_type": "code",
      "metadata": {
        "id": "eiPRKTCJKr1I"
      },
      "source": [
        "dados_coord = dados_coord[ ['gps_code', 'coordinates'] ]\n",
        "dados_final = dados_final.merge( dados_coord, right_on = 'gps_code', left_on='AEROPORTO DE ORIGEM (SIGLA)' )\n",
        "dados_final = dados_final.merge( dados_coord, right_on = 'gps_code', left_on='AEROPORTO DE DESTINO (SIGLA)' )"
      ],
      "execution_count": 268,
      "outputs": []
    },
    {
      "cell_type": "code",
      "metadata": {
        "id": "nipdt2dEMoqw"
      },
      "source": [
        "dados_final = dados_final.drop( ['gps_code_x', 'gps_code_y', 'coordinates_x'], axis=1 )\n",
        "dados_final = dados_final.rename( columns={'coordinates_y':'COORDENADAS'} )"
      ],
      "execution_count": 269,
      "outputs": []
    },
    {
      "cell_type": "code",
      "metadata": {
        "id": "v7o0ov8MNGUf"
      },
      "source": [
        "dados_final['LAT']  = dados_final['COORDENADAS'].apply( lambda x: float(x.split(',')[0]) )\n",
        "dados_final['LONG']  = dados_final['COORDENADAS'].apply( lambda x: float(x.split(',')[1]) )\n",
        "dados_final = dados_final.drop( ['COORDENADAS'], axis=1 )"
      ],
      "execution_count": 270,
      "outputs": []
    },
    {
      "cell_type": "markdown",
      "metadata": {
        "id": "zyVoBZ0yUNb3"
      },
      "source": [
        "**Renomeando colunas para caracteres ASCII e removendo espaços**"
      ]
    },
    {
      "cell_type": "markdown",
      "metadata": {
        "id": "07aWnHAMUxIN"
      },
      "source": [
        "https://stackoverflow.com/questions/517923/what-is-the-best-way-to-remove-accents-normalize-in-a-python-unicode-string"
      ]
    },
    {
      "cell_type": "code",
      "metadata": {
        "id": "5rxbxy0sURFm"
      },
      "source": [
        "import unicodedata\n",
        "\n",
        "def fix_columns_name(s):\n",
        "   return ''.join(c for c in unicodedata.normalize('NFD', s)\n",
        "                  if unicodedata.category(c) != 'Mn').replace(' ', '_').replace('(', '').replace(')', '')"
      ],
      "execution_count": 271,
      "outputs": []
    },
    {
      "cell_type": "code",
      "metadata": {
        "id": "Ks6_idj-U052"
      },
      "source": [
        "dados_final = dados_final.rename( columns= { col:fix_columns_name(col) for col in dados_final.columns } )"
      ],
      "execution_count": 272,
      "outputs": []
    },
    {
      "cell_type": "markdown",
      "metadata": {
        "id": "tl6IeulUW-vf"
      },
      "source": [
        "**Removendo valores NaN**"
      ]
    },
    {
      "cell_type": "code",
      "metadata": {
        "colab": {
          "base_uri": "https://localhost:8080/"
        },
        "id": "jq21FA8RXAot",
        "outputId": "c70fc1c7-ebf8-4cbf-f081-cb044a0ae045"
      },
      "source": [
        "print( f\"Tamanho original - {len(dados_final)}\" )\n",
        "dados_final = dados_final.dropna()\n",
        "print( f\"Tamanho final - {len(dados_final)}\" )"
      ],
      "execution_count": 273,
      "outputs": [
        {
          "output_type": "stream",
          "text": [
            "Tamanho original - 4594\n",
            "Tamanho final - 4041\n"
          ],
          "name": "stdout"
        }
      ]
    },
    {
      "cell_type": "markdown",
      "metadata": {
        "id": "OybLIGHjNkPv"
      },
      "source": [
        "**Resultado Final**"
      ]
    },
    {
      "cell_type": "code",
      "metadata": {
        "colab": {
          "base_uri": "https://localhost:8080/",
          "height": 223
        },
        "id": "4Nd8wBWWNdCX",
        "outputId": "dbec44c3-d374-4832-c9f8-e79aec8dd3c6"
      },
      "source": [
        "dados_final.head()"
      ],
      "execution_count": 274,
      "outputs": [
        {
          "output_type": "execute_result",
          "data": {
            "text/html": [
              "<div>\n",
              "<style scoped>\n",
              "    .dataframe tbody tr th:only-of-type {\n",
              "        vertical-align: middle;\n",
              "    }\n",
              "\n",
              "    .dataframe tbody tr th {\n",
              "        vertical-align: top;\n",
              "    }\n",
              "\n",
              "    .dataframe thead th {\n",
              "        text-align: right;\n",
              "    }\n",
              "</style>\n",
              "<table border=\"1\" class=\"dataframe\">\n",
              "  <thead>\n",
              "    <tr style=\"text-align: right;\">\n",
              "      <th></th>\n",
              "      <th>AEROPORTO_DE_ORIGEM_SIGLA</th>\n",
              "      <th>AEROPORTO_DE_DESTINO_SIGLA</th>\n",
              "      <th>AEROPORTO_DE_ORIGEM_UF</th>\n",
              "      <th>AEROPORTO_DE_ORIGEM_REGIAO</th>\n",
              "      <th>AEROPORTO_DE_DESTINO_UF</th>\n",
              "      <th>AEROPORTO_DE_DESTINO_REGIAO</th>\n",
              "      <th>DISTANCIA_VOADA_KM</th>\n",
              "      <th>VOO_REGULAR</th>\n",
              "      <th>VOO_NAO_REGULAR</th>\n",
              "      <th>IMPRODUTIVO</th>\n",
              "      <th>EMPRESA_NACIONAL</th>\n",
              "      <th>NATUREZA_DOMESTICA</th>\n",
              "      <th>VOOS</th>\n",
              "      <th>LAT</th>\n",
              "      <th>LONG</th>\n",
              "    </tr>\n",
              "  </thead>\n",
              "  <tbody>\n",
              "    <tr>\n",
              "      <th>0</th>\n",
              "      <td>SBAA</td>\n",
              "      <td>SBAA</td>\n",
              "      <td>PA</td>\n",
              "      <td>NORTE</td>\n",
              "      <td>PA</td>\n",
              "      <td>NORTE</td>\n",
              "      <td>0.0</td>\n",
              "      <td>0</td>\n",
              "      <td>0</td>\n",
              "      <td>1</td>\n",
              "      <td>1</td>\n",
              "      <td>1</td>\n",
              "      <td>1</td>\n",
              "      <td>-49.301498</td>\n",
              "      <td>-8.34835</td>\n",
              "    </tr>\n",
              "    <tr>\n",
              "      <th>3</th>\n",
              "      <td>SBGO</td>\n",
              "      <td>SBAA</td>\n",
              "      <td>GO</td>\n",
              "      <td>CENTRO-OESTE</td>\n",
              "      <td>PA</td>\n",
              "      <td>NORTE</td>\n",
              "      <td>921.0</td>\n",
              "      <td>0</td>\n",
              "      <td>0</td>\n",
              "      <td>1</td>\n",
              "      <td>1</td>\n",
              "      <td>1</td>\n",
              "      <td>1</td>\n",
              "      <td>-49.301498</td>\n",
              "      <td>-8.34835</td>\n",
              "    </tr>\n",
              "    <tr>\n",
              "      <th>4</th>\n",
              "      <td>SBMA</td>\n",
              "      <td>SBAA</td>\n",
              "      <td>PA</td>\n",
              "      <td>NORTE</td>\n",
              "      <td>PA</td>\n",
              "      <td>NORTE</td>\n",
              "      <td>332.0</td>\n",
              "      <td>20</td>\n",
              "      <td>0</td>\n",
              "      <td>0</td>\n",
              "      <td>20</td>\n",
              "      <td>20</td>\n",
              "      <td>20</td>\n",
              "      <td>-49.301498</td>\n",
              "      <td>-8.34835</td>\n",
              "    </tr>\n",
              "    <tr>\n",
              "      <th>5</th>\n",
              "      <td>SBPJ</td>\n",
              "      <td>SBAA</td>\n",
              "      <td>TO</td>\n",
              "      <td>NORTE</td>\n",
              "      <td>PA</td>\n",
              "      <td>NORTE</td>\n",
              "      <td>4063.0</td>\n",
              "      <td>5</td>\n",
              "      <td>0</td>\n",
              "      <td>0</td>\n",
              "      <td>5</td>\n",
              "      <td>5</td>\n",
              "      <td>5</td>\n",
              "      <td>-49.301498</td>\n",
              "      <td>-8.34835</td>\n",
              "    </tr>\n",
              "    <tr>\n",
              "      <th>6</th>\n",
              "      <td>SJHG</td>\n",
              "      <td>SBAA</td>\n",
              "      <td>MT</td>\n",
              "      <td>CENTRO-OESTE</td>\n",
              "      <td>PA</td>\n",
              "      <td>NORTE</td>\n",
              "      <td>2130.0</td>\n",
              "      <td>0</td>\n",
              "      <td>0</td>\n",
              "      <td>7</td>\n",
              "      <td>7</td>\n",
              "      <td>7</td>\n",
              "      <td>7</td>\n",
              "      <td>-49.301498</td>\n",
              "      <td>-8.34835</td>\n",
              "    </tr>\n",
              "  </tbody>\n",
              "</table>\n",
              "</div>"
            ],
            "text/plain": [
              "  AEROPORTO_DE_ORIGEM_SIGLA AEROPORTO_DE_DESTINO_SIGLA  ...        LAT     LONG\n",
              "0                      SBAA                       SBAA  ... -49.301498 -8.34835\n",
              "3                      SBGO                       SBAA  ... -49.301498 -8.34835\n",
              "4                      SBMA                       SBAA  ... -49.301498 -8.34835\n",
              "5                      SBPJ                       SBAA  ... -49.301498 -8.34835\n",
              "6                      SJHG                       SBAA  ... -49.301498 -8.34835\n",
              "\n",
              "[5 rows x 15 columns]"
            ]
          },
          "metadata": {
            "tags": []
          },
          "execution_count": 274
        }
      ]
    },
    {
      "cell_type": "markdown",
      "metadata": {
        "id": "0jow_8ROG54q"
      },
      "source": [
        "## Construindo o Grafo com o NetworkX"
      ]
    },
    {
      "cell_type": "markdown",
      "metadata": {
        "id": "oVb5_ZepebmE"
      },
      "source": [
        "A partir desse ponto, já podemos consturir nosso grafo com o NetworkX."
      ]
    },
    {
      "cell_type": "code",
      "metadata": {
        "id": "YbrfXfBpHYhC"
      },
      "source": [
        "import networkx as nx\n",
        "from pprint import pprint"
      ],
      "execution_count": 275,
      "outputs": []
    },
    {
      "cell_type": "code",
      "metadata": {
        "id": "0euM5p1VI3SA"
      },
      "source": [
        "graph_voos = nx.from_pandas_edgelist(dados_final,  \n",
        "                                     source ='AEROPORTO_DE_ORIGEM_SIGLA',\n",
        "                                     target ='AEROPORTO_DE_DESTINO_SIGLA',\n",
        "                                     edge_attr = list(set(dados_final.columns) - {'AEROPORTO_DE_ORIGEM_SIGLA', 'AEROPORTO_DE_DESTINO_SIGLA'}),\n",
        "                                     create_using = nx.DiGraph())"
      ],
      "execution_count": 276,
      "outputs": []
    },
    {
      "cell_type": "markdown",
      "metadata": {
        "id": "fXvwzQOKX3f1"
      },
      "source": [
        "**Visualizando dados**"
      ]
    },
    {
      "cell_type": "code",
      "metadata": {
        "colab": {
          "base_uri": "https://localhost:8080/"
        },
        "id": "cRejf0txQC63",
        "outputId": "5fcd1af6-9bba-4f6b-c7be-da6bb1326838"
      },
      "source": [
        "graph_voos.nodes"
      ],
      "execution_count": 277,
      "outputs": [
        {
          "output_type": "execute_result",
          "data": {
            "text/plain": [
              "NodeView(('SBAA', 'SBGO', 'SBMA', 'SBPJ', 'SJHG', 'SNDC', 'SNKE', 'SWFX', 'SWGN', 'SBAR', 'SBBE', 'SBAT', 'SBBH', 'SBBR', 'SBBV', 'SBCF', 'SBCG', 'SBCJ', 'SBCT', 'SBCY', 'SBEG', 'SBFL', 'SBFZ', 'SBGL', 'SBGR', 'SBHT', 'SBIH', 'SBIZ', 'SBJP', 'SBKP', 'SBLO', 'SBMD', 'SBMK', 'SBMO', 'SBMQ', 'SBNT', 'SBOI', 'SBPA', 'SBPS', 'SBPV', 'SBQV', 'SBRB', 'SBRF', 'SBSG', 'SBSL', 'SBSN', 'SBSP', 'SBSV', 'SBTB', 'SBTE', 'SBTU', 'SBUL', 'SBVT', 'SDOW', 'SISO', 'SNEB', 'SNMZ', 'SNSW', 'SNVS', 'SNYA', 'SBCI', 'SBBW', 'SBCA', 'SBCH', 'SBCN', 'SBFI', 'SBIL', 'SBJD', 'SBJF', 'SBJI', 'SBJU', 'SBJV', 'SBMG', 'SBMT', 'SBNF', 'SBPL', 'SBRJ', 'SBRP', 'SBSJ', 'SBSR', 'SBTC', 'SBUR', 'SBVH', 'SDOV', 'SDUB', 'SJVO', 'SNBM', 'SNBR', 'SNGI', 'SNMH', 'SSKW', 'SWDB', 'SWGI', 'SWGP', 'SWHG', 'SWHP', 'SWIQ', 'SWLC', 'SWNH', 'SWNS', 'SWUA', 'SWVC', 'SWWU', 'SWZM', 'SJGU', 'SNFX', 'SBJC', 'SBAC', 'SBCB', 'SBJE', 'SBPB', 'SDSC', 'SDZG', 'SNAT', 'SNIG', 'SNOB', 'SNWS', 'SWBE', 'SBAE', 'SBAQ', 'SBAU', 'SBAX', 'SBBI', 'SBCM', 'SBCP', 'SBCR', 'SBCX', 'SBDB', 'SBDN', 'SBDO', 'SBGP', 'SBGV', 'SBIP', 'SBJA', 'SBKG', 'SBLJ', 'SBME', 'SBML', 'SBNM', 'SBPF', 'SBPG', 'SBPK', 'SBRD', 'SBSI', 'SBSM', 'SBTD', 'SBTG', 'SBTT', 'SBVG', 'SBYS', 'SBZM', 'SDAM', 'SDCO', 'SDRS', 'SDVG', 'SNDV', 'SNJR', 'SNPD', 'SNVB', 'SBFN', 'SBBU', 'SBPC', 'SDAG', 'SNAR', 'SNBA', 'SNCT', 'SNDT', 'SNFE', 'SNFO', 'SNGX', 'SNJM', 'SNNU', 'SNOS', 'SNPJ', 'SNPY', 'SNTF', 'SNTO', 'SNUH', 'SNUI', 'SNVC', 'SNXB', 'SNZA', 'SNZR', 'SWLF', 'SBAN', 'SBCZ', 'SBSO', 'SIMK', 'SWCB', 'SWEK', 'SWXV', 'SBLE', 'SBTF', 'SBTV', 'SNGA', 'SBCD', 'SBPO', 'SSAB', 'SSCK', 'SSCT', 'SSDO', 'SSER', 'SSFB', 'SSGY', 'SSJA', 'SSKM', 'SSOE', 'SSOG', 'SSPG', 'SSPI', 'SSUM', 'SSUV', 'SSVL', 'SDNM', 'SILC', 'SIZX', 'SSOU', 'SWBG', 'SWCA', 'SWJN', 'SWPY', 'SWTS', 'SJTC', 'SBSC', 'SSTL', 'SWKC', 'SBJR', 'SDIM', 'SDTK', 'SBBG', 'SBCO', 'SBMY', 'SBTR', 'SBUG', 'SIXE', 'SJRG', 'SSCN', 'SSSB', 'SSZR', 'SBMN', 'SJLM', 'SJLU', 'SJQK', 'SWBV', 'SWPI', 'SWQR', 'SWUQ', 'SBIC', 'SBUA', 'SBUY', 'SDCG', 'SWBC', 'SWBR', 'SWEI', 'SWFN', 'SWHT', 'SWKO', 'SWLB', 'SWMW', 'SWNK', 'SWOB', 'SWTP', 'SNOX', 'SBMS', 'SBUF', 'SNTS', 'SNRU', 'SBLP', 'SNHS', 'SNSG', 'SNTI', 'SIRI', 'SNAV', 'SNIC', 'SNIP', 'SNIU', 'SNMJ', 'SNUU', 'SNQW', 'SSAC', 'SNMA', 'SNRJ', 'SDPA', 'SNMK', 'SWPQ', 'SNPP', 'SNDH', 'SWNB', 'SNJN', 'SNLO', 'SSND', 'SBIT', 'SWWA', 'SWJQ', 'SSIJ', 'SSCP', 'SIQE', 'SWEE', 'SWJP', 'SBYA', 'SWYK', 'SSCL', 'SNBX', 'SWRF', 'SDWQ', 'SNCX', 'SWDM', 'SWYY'))"
            ]
          },
          "metadata": {
            "tags": []
          },
          "execution_count": 277
        }
      ]
    },
    {
      "cell_type": "code",
      "metadata": {
        "colab": {
          "base_uri": "https://localhost:8080/"
        },
        "id": "fVkDoWbtQwF3",
        "outputId": "ac3f7d26-f737-4e41-a1ee-7c18bc300073"
      },
      "source": [
        "graph_voos.is_directed()"
      ],
      "execution_count": 278,
      "outputs": [
        {
          "output_type": "execute_result",
          "data": {
            "text/plain": [
              "True"
            ]
          },
          "metadata": {
            "tags": []
          },
          "execution_count": 278
        }
      ]
    },
    {
      "cell_type": "code",
      "metadata": {
        "colab": {
          "base_uri": "https://localhost:8080/"
        },
        "id": "98bfJmA8Z141",
        "outputId": "f6837f89-ccea-4a7e-e5ba-393cd29604e0"
      },
      "source": [
        "pprint(graph_voos['SBAA']['SNDC'])"
      ],
      "execution_count": 282,
      "outputs": [
        {
          "output_type": "stream",
          "text": [
            "{'AEROPORTO_DE_DESTINO_REGIAO': 'NORTE',\n",
            " 'AEROPORTO_DE_DESTINO_UF': 'PA',\n",
            " 'AEROPORTO_DE_ORIGEM_REGIAO': 'NORTE',\n",
            " 'AEROPORTO_DE_ORIGEM_UF': 'PA',\n",
            " 'DISTANCIA_VOADA_KM': 1909.0,\n",
            " 'EMPRESA_NACIONAL': 31,\n",
            " 'IMPRODUTIVO': 2,\n",
            " 'LAT': -49.97990036010742,\n",
            " 'LONG': -8.033289909362793,\n",
            " 'NATUREZA_DOMESTICA': 31,\n",
            " 'VOOS': 31,\n",
            " 'VOO_NAO_REGULAR': 2,\n",
            " 'VOO_REGULAR': 27}\n"
          ],
          "name": "stdout"
        }
      ]
    },
    {
      "cell_type": "markdown",
      "metadata": {
        "id": "zZi_6gx5TkvP"
      },
      "source": [
        "## Salvando o grafo"
      ]
    },
    {
      "cell_type": "markdown",
      "metadata": {
        "id": "isixDsx1Xvke"
      },
      "source": [
        "**Salvando gml**"
      ]
    },
    {
      "cell_type": "code",
      "metadata": {
        "id": "eag0KvSeQzl9"
      },
      "source": [
        "nx.write_gml(graph_voos, 'graph_br_flights.gml.gz')"
      ],
      "execution_count": 279,
      "outputs": []
    },
    {
      "cell_type": "markdown",
      "metadata": {
        "id": "OfEyA3HPXzfs"
      },
      "source": [
        "**Testando arquivo**"
      ]
    },
    {
      "cell_type": "code",
      "metadata": {
        "id": "ms_Rf71RWtqt"
      },
      "source": [
        "g = nx.read_gml('graph_br_flights.gml.gz')"
      ],
      "execution_count": 280,
      "outputs": []
    },
    {
      "cell_type": "markdown",
      "metadata": {
        "id": "K2EKa02MX8ZN"
      },
      "source": [
        "## Resumo final do grafo"
      ]
    },
    {
      "cell_type": "markdown",
      "metadata": {
        "id": "xk6iJ6bbX-hM"
      },
      "source": [
        "Este notebook construiu um grafo Dirigido contendo informações de voos que ocorreram nos aeroportos brasileiros de 2000 a 2020."
      ]
    },
    {
      "cell_type": "markdown",
      "metadata": {
        "id": "LuuMOtbmYIf9"
      },
      "source": [
        "Abaixo, uma lista das variáveis das arestas do grafo.\n",
        "\n",
        "- **AEROPORTO_DE_ORIGEM_UF**\n",
        "- **AEROPORTO_DE_ORIGEM_REGIAO**\t\n",
        "- **AEROPORTO_DE_DESTINO_UF**\n",
        "- **AEROPORTO_DE_DESTINO_REGIAO**\t\n",
        "- **DISTANCIA_VOADA_KM**\t: Distância entre origem e destino\n",
        "- **VOOS** - Quantidade voos feitos entre os aeroportos\n",
        "- **VOO_REGULAR**\t: Quantidade de voos regulares feitas entre os aeroportos\n",
        "- **VOO_NAO_REGULAR**\t: Quantidade de voos não regulares feitas entre os aeroportos\n",
        "- **IMPRODUTIVO**\t: Quantidade de voos improdutivos feitas entre os aeroportos\n",
        "- **EMPRESA_NACIONAL**\t: Quantidade de voos de empresa nacional\n",
        "- **NATUREZA_DOMESTICA**\t: Quantidade de voos de natureza doméstica\n",
        "- **LAT**\t: Latitude\n",
        "- **LONG** : Longitude"
      ]
    }
  ]
}